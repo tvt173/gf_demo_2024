{
 "cells": [
  {
   "cell_type": "markdown",
   "metadata": {},
   "source": [
    "# Building devices in python\n",
    "\n",
    "This tutorial demonstrates how you can easily build cells in python with gdsfactory"
   ]
  },
  {
   "cell_type": "code",
   "execution_count": null,
   "metadata": {},
   "outputs": [],
   "source": [
    "import gdsfactory as gf"
   ]
  },
  {
   "cell_type": "markdown",
   "metadata": {},
   "source": [
    "Let's start by creating a simple cell with a polygon on GDS layer (1, 0)"
   ]
  },
  {
   "cell_type": "code",
   "execution_count": null,
   "metadata": {},
   "outputs": [],
   "source": [
    "c = gf.Component()\n",
    "c.add_polygon([[0, 0], [1, 1], [2, 0]], layer=(1, 0))\n",
    "c.plot()"
   ]
  },
  {
   "cell_type": "markdown",
   "metadata": {},
   "source": [
    "Adding polygons is the most fundamental operation when creating a layout, but it's usually more convenient to reuse something we already have existing. Let's demonstrate adding some text, in a DRC-friendly rectangular font."
   ]
  },
  {
   "cell_type": "code",
   "execution_count": null,
   "metadata": {},
   "outputs": [],
   "source": [
    "c = gf.Component()\n",
    "# text_rectangular() produces a cell. we place a reference of that cell in `c`\n",
    "c << gf.c.text_rectangular(\"Hello Kyushu!\")\n",
    "c.plot()"
   ]
  },
  {
   "cell_type": "markdown",
   "metadata": {},
   "source": [
    "There are many useful shapes and devices built into gdsfactory, in what we call the \"generic PDK\". Let's demonstrate a few of them."
   ]
  },
  {
   "cell_type": "code",
   "execution_count": null,
   "metadata": {},
   "outputs": [],
   "source": [
    "c = gf.Component()\n",
    "c << gf.c.text_freetype(\"gdsfactory has lots of built-in shapes and devices\")\n",
    "circle = c << gf.c.circle(radius=30)\n",
    "circle.move((-30, -60))\n",
    "rect = c << gf.c.rectangle((30, 10), layer=(2,0))\n",
    "rect.move((20, -60))\n",
    "bezier = c << gf.components.bezier(control_points=[[0.0, 0.0], [30.0, 0.0], [50.0, 40], [30.0, -50]], npoints=201, with_manhattan_facing_angles=True, cross_section='xs_sc')\n",
    "bezier.move((60, -60))\n",
    "gc = c << gf.c.grating_coupler_elliptical()\n",
    "gc.move((130, -60))\n",
    "greek_cross = c << gf.c.greek_cross()\n",
    "greek_cross.move((250, -60))\n",
    "c.plot()\n",
    "\n",
    "c.write_gds(\"ex1.gds\")"
   ]
  },
  {
   "cell_type": "markdown",
   "metadata": {},
   "source": [
    "When creating a cell (or pcell) you'd like to use in one of your designs, you should put it in a function with an `@cell` decorator, as shown below."
   ]
  },
  {
   "cell_type": "code",
   "execution_count": null,
   "metadata": {},
   "outputs": [],
   "source": [
    "@gf.cell\n",
    "def my_cell(my_parameter: int = 1) -> gf.Component:\n",
    "    c = gf.Component()\n",
    "    c << gf.c.text_freetype(f\"my parameter is {my_parameter}\")\n",
    "    return c\n",
    "\n",
    "c = my_cell(my_parameter=3)\n",
    "c.write_gds(\"ex2.gds\")"
   ]
  },
  {
   "cell_type": "markdown",
   "metadata": {},
   "source": [
    "When you open the GDS file written from the cell above, you should notice that the cell has been named automatically according to the function + parameter names. Furthermore, the caching mechanism in gdsfactory ensures that\n",
    "- there are never naming conflicts between cells\n",
    "- the same cell is never created twice, saving time during generation"
   ]
  },
  {
   "cell_type": "code",
   "execution_count": null,
   "metadata": {},
   "outputs": [],
   "source": [
    "# these cells don't just look the same, they point to the same object in memory\n",
    "my_cell(my_parameter=3) is my_cell(my_parameter=3)"
   ]
  },
  {
   "cell_type": "markdown",
   "metadata": {},
   "source": [
    "## Ports\n",
    "It's useful to define ports on your cells so that they can be connected together in higher-level cells and circuits."
   ]
  },
  {
   "cell_type": "code",
   "execution_count": null,
   "metadata": {},
   "outputs": [],
   "source": [
    "@gf.cell\n",
    "def my_triangle():\n",
    "    c = gf.Component()\n",
    "    c.add_polygon([[0, 0], [1, 1], [2, 0]], layer=(1, 0))\n",
    "    c.add_port(name=\"p1\", center=(1, 1), orientation=90, cross_section=\"xs_sc\")\n",
    "    return c\n",
    "\n",
    "my_triangle().plot()"
   ]
  },
  {
   "cell_type": "code",
   "execution_count": null,
   "metadata": {},
   "outputs": [],
   "source": [
    "kissy_kissy = gf.Component()\n",
    "t1 = kissy_kissy << my_triangle()\n",
    "t2 = kissy_kissy << my_triangle()\n",
    "t1.rotate(-90)\n",
    "t2.connect(\"p1\", t1.ports[\"p1\"])\n",
    "kissy_kissy.plot()"
   ]
  },
  {
   "cell_type": "code",
   "execution_count": null,
   "metadata": {},
   "outputs": [],
   "source": []
  }
 ],
 "metadata": {
  "kernelspec": {
   "display_name": "gfdemo",
   "language": "python",
   "name": "python3"
  },
  "language_info": {
   "codemirror_mode": {
    "name": "ipython",
    "version": 3
   },
   "file_extension": ".py",
   "mimetype": "text/x-python",
   "name": "python",
   "nbconvert_exporter": "python",
   "pygments_lexer": "ipython3",
   "version": "3.11.9"
  }
 },
 "nbformat": 4,
 "nbformat_minor": 2
}
