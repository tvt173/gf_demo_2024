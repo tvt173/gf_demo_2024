{
 "cells": [
  {
   "cell_type": "markdown",
   "metadata": {},
   "source": [
    "# Creating photonic circuits"
   ]
  },
  {
   "cell_type": "markdown",
   "metadata": {},
   "source": [
    "Let's start by creating a very simple circuit, in pure python, by connecting a series of components from a PDK."
   ]
  },
  {
   "cell_type": "code",
   "execution_count": null,
   "metadata": {},
   "outputs": [],
   "source": [
    "import cspdk.si220\n",
    "from cspdk.si220 import cells\n",
    "import gdsfactory as gf\n",
    "\n",
    "cspdk.si220.PDK.activate()\n",
    "\n",
    "pdk = gf.get_active_pdk()"
   ]
  },
  {
   "cell_type": "code",
   "execution_count": null,
   "metadata": {},
   "outputs": [],
   "source": [
    "c = gf.Component()\n",
    "s1 = c << cells.straight_sc(length=50)\n",
    "s2 = c << cells.straight_sc(length=20)\n",
    "b1 = c << cells.bend_sc()\n",
    "b1.connect('o1', s1.ports['o2'])\n",
    "s2.connect('o1', b1.ports['o2'])\n",
    "c.add_port('o1', port=s1.ports['o1'])\n",
    "c.add_port('o2', port=s2.ports['o2'])\n",
    "c.rename('first_circuit')\n",
    "c"
   ]
  },
  {
   "cell_type": "markdown",
   "metadata": {},
   "source": [
    "Note that the circuit can now be serialized to a yaml format that captures both the connectivity (netlist) information and placements that would be required to rebuild the circuit."
   ]
  },
  {
   "cell_type": "code",
   "execution_count": null,
   "metadata": {},
   "outputs": [],
   "source": [
    "yaml_circuit = c.to_yaml()\n",
    "print(yaml_circuit)"
   ]
  },
  {
   "cell_type": "markdown",
   "metadata": {},
   "source": [
    "And the yaml netlist can also be deserialized to reinstantiate the gdsfactory component and back out to GDS."
   ]
  },
  {
   "cell_type": "code",
   "execution_count": null,
   "metadata": {},
   "outputs": [],
   "source": [
    "loaded = gf.read.from_yaml(yaml_circuit)\n",
    "loaded"
   ]
  },
  {
   "cell_type": "markdown",
   "metadata": {},
   "source": [
    "Of course, you could also edit the netlist in yaml and regenerate a different circuit. Let's try it."
   ]
  },
  {
   "cell_type": "code",
   "execution_count": null,
   "metadata": {},
   "outputs": [],
   "source": [
    "# first, let's write the netlist to file\n",
    "c.write_netlist(\"first_circuit.pic.yml\")\n",
    "# now try adding another instance to the netlist. maybe another bend at the end"
   ]
  },
  {
   "cell_type": "code",
   "execution_count": null,
   "metadata": {},
   "outputs": [],
   "source": [
    "gf.clear_cache()\n",
    "gf.read.from_yaml('first_circuit.pic.yml')"
   ]
  },
  {
   "cell_type": "markdown",
   "metadata": {},
   "source": [
    "## Routes\n",
    "\n",
    "Until now, our circuits have been fairly simple. For more complicated circuits, we want to be able to easily define routes between components. There are various functions in gdsfactory which allow us to do this.\n",
    "\n",
    "### Automatic bundle routing\n",
    "In photonics, it is common to want route a group of waveguides together in what we call a \"bundle\". This is similar to what is often called a \"bus\" in electrical routing.\n",
    "\n",
    "The `get_bundle` function can route a bundle between a list of input and corresponding output ports with a simple automatic routing routine."
   ]
  },
  {
   "cell_type": "code",
   "execution_count": null,
   "metadata": {},
   "outputs": [],
   "source": [
    "c2 = gf.Component()\n",
    "mmi1 = c2.add_ref(cells.mmi1x2_sc(), \"mmi1\")\n",
    "mmi2 = c2.add_ref(cells.mmi1x2_sc(), \"mmi2\")\n",
    "mmi2.rotate(180, \"o2\")\n",
    "mmi2.move(\"o2\", mmi1.ports[\"o3\"].center + (100, -50))\n",
    "bundle = gf.routing.get_bundle([mmi1.ports[\"o2\"], mmi1.ports[\"o3\"]], \n",
    "                               [mmi2.ports[\"o3\"], mmi2.ports[\"o2\"]])\n",
    "for route in bundle:\n",
    "    c2.add(route.references)\n",
    "c2"
   ]
  },
  {
   "cell_type": "markdown",
   "metadata": {},
   "source": [
    "### Custom bundle routing\n",
    "Sometimes we wish to route in a more custom fashion. Whether it be to route around obstacles, acheive a particular pathlength, etc., the `get_bundle_from_steps` function allows us to route in the sequence of directions specified by our `steps` directives."
   ]
  },
  {
   "cell_type": "code",
   "execution_count": null,
   "metadata": {},
   "outputs": [],
   "source": [
    "c2 = gf.Component()\n",
    "mmi1 = c2.add_ref(cells.mmi1x2_sc(), \"mmi1\")\n",
    "mmi2 = c2.add_ref(cells.mmi1x2_sc(), \"mmi2\")\n",
    "mmi2.rotate(180, \"o2\")\n",
    "mmi2.move(\"o2\", mmi1.ports[\"o3\"].center + (100, -50))\n",
    "bundle = gf.routing.get_bundle_from_steps([mmi1.ports[\"o2\"], mmi1.ports[\"o3\"]], \n",
    "                                          [mmi2.ports[\"o3\"], mmi2.ports[\"o2\"]],\n",
    "                                          steps=[\n",
    "                                              {\"dx\": 20},\n",
    "                                              {\"dy\": 100},\n",
    "                                              {\"dx\": 20}\n",
    "                                          ])\n",
    "for route in bundle:\n",
    "    c2.add(route.references)\n",
    "c2"
   ]
  },
  {
   "cell_type": "markdown",
   "metadata": {},
   "source": [
    "### All-angle routing\n",
    "You are not constrained to route at manhattan angles. The `get_bundle_all_angle` router can be used to route bundles at any angle, with a similar syntax to the step router.\n",
    "\n",
    "Here is an example with a simple, automatic, non-manhattan bundle."
   ]
  },
  {
   "cell_type": "code",
   "execution_count": null,
   "metadata": {},
   "outputs": [],
   "source": [
    "c2 = gf.Component()\n",
    "mmi1 = c2.add_ref(cells.mmi1x2_sc(), \"mmi1\")\n",
    "mmi2 = c2.add_ref(cells.mmi1x2_sc(), \"mmi2\")\n",
    "mmi2.rotate(180, \"o2\")\n",
    "mmi2.move(\"o2\", mmi1.ports[\"o3\"].center + (100, -50))\n",
    "bundle = gf.routing.get_bundle_all_angle([mmi1.ports[\"o2\"], mmi1.ports[\"o3\"]], \n",
    "                                          [mmi2.ports[\"o3\"], mmi2.ports[\"o2\"]],\n",
    "                                          connector=\"simple\",\n",
    "                                          )\n",
    "for route in bundle:\n",
    "    c2.add(route.references)\n",
    "c2"
   ]
  },
  {
   "cell_type": "markdown",
   "metadata": {},
   "source": [
    "And here we specify manual steps. Instead of specifying steps in x or y, we specify steps of size `ds` and the angle to exit the current step in. If you configure the Klayout ruler to display the angle, it makes it very handy to sketch this out once and transcribe as a series of steps with the ruler."
   ]
  },
  {
   "cell_type": "code",
   "execution_count": null,
   "metadata": {},
   "outputs": [],
   "source": [
    "gf.CONF.allow_offgrid = True\n",
    "\n",
    "c2 = gf.Component()\n",
    "mmi1 = c2.add_ref(cells.mmi1x2_sc(), \"mmi1\")\n",
    "mmi2 = c2.add_ref(cells.mmi1x2_sc(), \"mmi2\")\n",
    "mmi2.rotate(180, \"o2\")\n",
    "mmi2.move(\"o2\", mmi1.ports[\"o3\"].center + (100, -50))\n",
    "bundle = gf.routing.get_bundle_all_angle([mmi1.ports[\"o2\"], mmi1.ports[\"o3\"]], \n",
    "                                          [mmi2.ports[\"o3\"], mmi2.ports[\"o2\"]],\n",
    "                                          connector=\"simple\",\n",
    "                                          steps=[\n",
    "                                              {\"ds\": 20, \"exit_angle\": -20},\n",
    "                                              {\"ds\": 50, \"exit_angle\": 180 + 20},\n",
    "                                          ]\n",
    "                                          )\n",
    "for route in bundle:\n",
    "    c2.add(route.references)\n",
    "c2.write_gds(\"sample_offgrid.gds\", flatten_offgrid_references=True)\n",
    "c2"
   ]
  },
  {
   "cell_type": "markdown",
   "metadata": {},
   "source": [
    "### Routes in yaml circuits\n",
    "In yaml circuits, we may also define `routes`. See the example below"
   ]
  },
  {
   "cell_type": "code",
   "execution_count": null,
   "metadata": {},
   "outputs": [],
   "source": [
    "# our PDK doesn't have the routing options we want baked in, so let's hack our way there\n",
    "pdk.routing_strategies['get_bundle'] = gf.routing.get_bundle\n",
    "pdk.routing_strategies['get_bundle_from_steps'] = gf.routing.get_bundle_from_steps\n",
    "pdk.routing_strategies['all_angle'] = gf.routing.get_bundle_all_angle\n",
    "# cell_from_yaml_template will create a proper cell definition, so let's clear the cache between each run of this notebook cell\n",
    "gf.clear_cache()\n",
    "\n",
    "c = gf.read.cell_from_yaml_template(\"circuits/photonic_circuit.pic.yml\",\n",
    "                                    name=\"sample_circuit\")\n",
    "c()"
   ]
  },
  {
   "cell_type": "markdown",
   "metadata": {},
   "source": [
    "### Templated yaml cells\n",
    "There are some benefits to defining your circuits as yaml. For instance,\n",
    "- the declarative nature of the format makes your circuit architecture clear\n",
    "- your circuit is already in a nice exchange format\n",
    "- it is easy to update a circuit without reloading the python instance\n",
    "\n",
    "But yaml is also much less flexible than pure python, making it harder to define programmatic cells with complex functionality. In an effort to get the best of both worlds, we also allow you to define your circuit as a jinja template.\n",
    "\n",
    "In this case, `cell_from_yaml_template` creates a function from the `*.yml.j2` file, and the header to the file must be the `default_settings` which are the input arguments to the pcell. When calling the function, the template is evaluating, allowing you to insert logic such as for-loops and conditionals into the circuit, in additional to simple variables and expressions."
   ]
  },
  {
   "cell_type": "code",
   "execution_count": null,
   "metadata": {},
   "outputs": [],
   "source": [
    "c = gf.read.cell_from_yaml_template(\"circuits/photonic_circuit_pcell.pic.yml.j2\",\n",
    "                                    name=\"my_yaml_pcell\")\n",
    "c?"
   ]
  },
  {
   "cell_type": "code",
   "execution_count": null,
   "metadata": {},
   "outputs": [],
   "source": [
    "c()"
   ]
  },
  {
   "cell_type": "code",
   "execution_count": null,
   "metadata": {},
   "outputs": [],
   "source": [
    "dx500 = c(dx=500)\n",
    "dx500"
   ]
  },
  {
   "cell_type": "code",
   "execution_count": null,
   "metadata": {},
   "outputs": [],
   "source": [
    "dx500.write_netlist(\"dx500_extracted.pic.yml\")"
   ]
  },
  {
   "cell_type": "markdown",
   "metadata": {},
   "source": [
    "## Simulating the circuit with SAX\n",
    "SAX is an open source S-matrix simulator. It is designed to interoperate well with gdsfactory and can take the extracted yaml output as an input circuit to perform an easy post-layout circuit validation."
   ]
  },
  {
   "cell_type": "code",
   "execution_count": null,
   "metadata": {},
   "outputs": [],
   "source": [
    "import cspdk.si220.models\n",
    "import sax\n",
    "from jax import jit\n",
    "import jax.numpy as jnp\n",
    "import matplotlib.pyplot as plt\n",
    "\n",
    "netlist = dx500.get_netlist()\n",
    "models = cspdk.si220.get_models()\n",
    "circuit, info = sax.circuit(netlist=netlist,\n",
    "                            models=models)\n",
    "circuit?"
   ]
  },
  {
   "cell_type": "markdown",
   "metadata": {},
   "source": [
    "Now that we have a circuit object, we can simulate it at a couple of different wavelengths."
   ]
  },
  {
   "cell_type": "code",
   "execution_count": null,
   "metadata": {},
   "outputs": [],
   "source": [
    "%time circuit(wl=1.500)"
   ]
  },
  {
   "cell_type": "code",
   "execution_count": null,
   "metadata": {},
   "outputs": [],
   "source": [
    "%time circuit(wl=1.550)"
   ]
  },
  {
   "cell_type": "markdown",
   "metadata": {},
   "source": [
    "Since sax is built on top of jax, we can use jax's jitting capabilities to dramatically speed up our circuit execution. There is always a bit of overhead on the first function execution to jit the function. But after that, subsequent executions are *extremely* fast."
   ]
  },
  {
   "cell_type": "code",
   "execution_count": null,
   "metadata": {},
   "outputs": [],
   "source": [
    "circuit_fast = jit(circuit)"
   ]
  },
  {
   "cell_type": "code",
   "execution_count": null,
   "metadata": {},
   "outputs": [],
   "source": [
    "%time circuit_fast(wl=1.500)"
   ]
  },
  {
   "cell_type": "code",
   "execution_count": null,
   "metadata": {},
   "outputs": [],
   "source": [
    "%time circuit_fast(wl=1.550)"
   ]
  },
  {
   "cell_type": "markdown",
   "metadata": {},
   "source": [
    "Now, with our fast circuit implementation, we can quickly run 1000 simulations at different wavelenths and plot the results."
   ]
  },
  {
   "cell_type": "code",
   "execution_count": null,
   "metadata": {},
   "outputs": [],
   "source": [
    "wl = jnp.linspace(1.4, 1.7, 1000)\n",
    "%time S = circuit(wl=wl)"
   ]
  },
  {
   "cell_type": "code",
   "execution_count": null,
   "metadata": {},
   "outputs": [],
   "source": [
    "plt.plot(wl * 1e3, abs(S[\"o1\", \"o2\"]) ** 2)\n",
    "plt.ylim(-0.05, 1.05)\n",
    "plt.xlabel(\"λ [nm]\")\n",
    "plt.ylabel(\"T\")\n",
    "plt.ylim(-0.05, 1.05)\n",
    "plt.show()"
   ]
  },
  {
   "cell_type": "markdown",
   "metadata": {},
   "source": [
    "### A more interesting example\n",
    "Let's now repeat the above with a parametric circuit of significance: a simple Mach-Zehnder Interferometer.\n",
    "\n",
    "This example is similar to the previous one, except we space the MMI's evenly and create a controlled length difference between the two arms. The dL between the arms creates a phase delay which causes interference at the output. Hence, by varying the dL between the arms we should be able to create an interesting frequency response."
   ]
  },
  {
   "cell_type": "code",
   "execution_count": null,
   "metadata": {},
   "outputs": [],
   "source": [
    "c = gf.read.cell_from_yaml_template(\"circuits/custom_mzi.pic.yml.j2\",\n",
    "                                    name=\"custom_mzi\")\n",
    "c()"
   ]
  },
  {
   "cell_type": "code",
   "execution_count": null,
   "metadata": {},
   "outputs": [],
   "source": [
    "circuit_by_dL = {dL: c(dL=dL) for dL in [100, 200, 300]}\n",
    "for dL, circuit_layout in circuit_by_dL.items():\n",
    "    circuit_layout.plot()"
   ]
  },
  {
   "cell_type": "code",
   "execution_count": null,
   "metadata": {},
   "outputs": [],
   "source": [
    "wl = jnp.linspace(1.545, 1.555, 1000)\n",
    "\n",
    "for dx, circuit_layout in circuit_by_dL.items():\n",
    "    circuit_netlist = circuit_layout.get_netlist()\n",
    "    circuit_sim, _ = sax.circuit(circuit_netlist, models=models)\n",
    "    fast_sim = jit(circuit_sim)\n",
    "    results = circuit_sim(wl=wl)\n",
    "    plt.plot(wl * 1e3, abs(results[\"o1\", \"o2\"]) ** 2, label=f\"dx = {dx}\")\n",
    "plt.ylim(-0.05, 1.05)\n",
    "plt.xlabel(\"λ [nm]\")\n",
    "plt.ylabel(\"T\")\n",
    "plt.ylim(-0.05, 1.05)\n",
    "plt.legend()\n",
    "plt.show()"
   ]
  },
  {
   "cell_type": "markdown",
   "metadata": {},
   "source": [
    "We engineered this example to generate very pronounced parasitic effects based on the shape of the routing. However, for a complex circuit, hopefully it is clear how valuable of a tool this can be to analyze and tune post-layout behaviour of the circuit."
   ]
  },
  {
   "cell_type": "code",
   "execution_count": null,
   "metadata": {},
   "outputs": [],
   "source": []
  }
 ],
 "metadata": {
  "kernelspec": {
   "display_name": "gfdemo",
   "language": "python",
   "name": "python3"
  },
  "language_info": {
   "codemirror_mode": {
    "name": "ipython",
    "version": 3
   },
   "file_extension": ".py",
   "mimetype": "text/x-python",
   "name": "python",
   "nbconvert_exporter": "python",
   "pygments_lexer": "ipython3",
   "version": "3.11.9"
  }
 },
 "nbformat": 4,
 "nbformat_minor": 2
}
