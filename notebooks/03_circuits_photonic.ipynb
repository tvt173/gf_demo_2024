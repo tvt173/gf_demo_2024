{
 "cells": [
  {
   "cell_type": "markdown",
   "metadata": {},
   "source": [
    "# Creating photonic circuits"
   ]
  },
  {
   "cell_type": "markdown",
   "metadata": {},
   "source": [
    "Let's start by creating a very simple circuit, in pure python, by connecting a series of components from a PDK."
   ]
  },
  {
   "cell_type": "code",
   "execution_count": null,
   "metadata": {},
   "outputs": [],
   "source": [
    "import cspdk.si220\n",
    "from cspdk.si220 import cells\n",
    "import gdsfactory as gf\n",
    "\n",
    "cspdk.si220.PDK.activate()\n",
    "\n",
    "pdk = gf.get_active_pdk()"
   ]
  },
  {
   "cell_type": "code",
   "execution_count": null,
   "metadata": {},
   "outputs": [],
   "source": [
    "c = gf.Component()\n",
    "s1 = c << cells.straight_sc(length=50)\n",
    "s2 = c << cells.straight_sc(length=20)\n",
    "b1 = c << cells.bend_sc()\n",
    "b1.connect('o1', s1.ports['o2'])\n",
    "s2.connect('o1', b1.ports['o2'])\n",
    "c.add_port('o1', port=s1.ports['o1'])\n",
    "c.add_port('o2', port=s2.ports['o2'])\n",
    "c.rename('first_circuit')\n",
    "c"
   ]
  },
  {
   "cell_type": "markdown",
   "metadata": {},
   "source": [
    "Note that the circuit can now be serialized to a yaml format that captures both the connectivity (netlist) information and placements that would be required to rebuild the circuit."
   ]
  },
  {
   "cell_type": "code",
   "execution_count": null,
   "metadata": {},
   "outputs": [],
   "source": [
    "yaml_circuit = c.to_yaml()\n",
    "print(yaml_circuit)"
   ]
  },
  {
   "cell_type": "markdown",
   "metadata": {},
   "source": [
    "And the yaml netlist can also be deserialized to reinstantiate the gdsfactory component and back out to GDS."
   ]
  },
  {
   "cell_type": "code",
   "execution_count": null,
   "metadata": {},
   "outputs": [],
   "source": [
    "loaded = gf.read.from_yaml(yaml_circuit)\n",
    "loaded"
   ]
  },
  {
   "cell_type": "markdown",
   "metadata": {},
   "source": [
    "Of course, you could also edit the netlist in yaml and regenerate a different circuit. Let's try it."
   ]
  },
  {
   "cell_type": "code",
   "execution_count": null,
   "metadata": {},
   "outputs": [],
   "source": [
    "# first, let's write the netlist to file\n",
    "c.write_netlist(\"first_circuit.pic.yml\")\n",
    "# now try adding another instance to the netlist. maybe another bend at the end"
   ]
  },
  {
   "cell_type": "code",
   "execution_count": null,
   "metadata": {},
   "outputs": [],
   "source": [
    "gf.clear_cache()\n",
    "gf.read.from_yaml('first_circuit.pic.yml')"
   ]
  },
  {
   "cell_type": "markdown",
   "metadata": {},
   "source": [
    "## Routes\n",
    "\n",
    "Until now, our circuits have been fairly simple. For more complicated circuits, we want to be able to easily define routes between components. There are various functions in gdsfactory which allow us to do this.\n",
    "\n",
    "### Automatic bundle routing\n",
    "In photonics, it is common to want route a group of waveguides together in what we call a \"bundle\". This is similar to what is often called a \"bus\" in electrical routing.\n",
    "\n",
    "The `get_bundle` function can route a bundle between a list of input and corresponding output ports with a simple automatic routing routine."
   ]
  },
  {
   "cell_type": "code",
   "execution_count": null,
   "metadata": {},
   "outputs": [],
   "source": [
    "c2 = gf.Component()\n",
    "mmi1 = c2.add_ref(cells.mmi1x2_sc(), \"mmi1\")\n",
    "mmi2 = c2.add_ref(cells.mmi1x2_sc(), \"mmi2\")\n",
    "mmi2.rotate(180, \"o2\")\n",
    "mmi2.move(\"o2\", mmi1.ports[\"o3\"].center + (100, -50))\n",
    "bundle = gf.routing.get_bundle([mmi1.ports[\"o2\"], mmi1.ports[\"o3\"]], \n",
    "                               [mmi2.ports[\"o3\"], mmi2.ports[\"o2\"]])\n",
    "for route in bundle:\n",
    "    c2.add(route.references)\n",
    "c2"
   ]
  },
  {
   "cell_type": "markdown",
   "metadata": {},
   "source": [
    "### Custom bundle routing\n",
    "Sometimes we wish to route in a more custom fashion. Whether it be to route around obstacles, acheive a particular pathlength, etc., the `get_bundle_from_steps` function allows us to route in the sequence of directions specified by our `steps` directives."
   ]
  },
  {
   "cell_type": "code",
   "execution_count": null,
   "metadata": {},
   "outputs": [],
   "source": [
    "c2 = gf.Component()\n",
    "mmi1 = c2.add_ref(cells.mmi1x2_sc(), \"mmi1\")\n",
    "mmi2 = c2.add_ref(cells.mmi1x2_sc(), \"mmi2\")\n",
    "mmi2.rotate(180, \"o2\")\n",
    "mmi2.move(\"o2\", mmi1.ports[\"o3\"].center + (100, -50))\n",
    "bundle = gf.routing.get_bundle_from_steps([mmi1.ports[\"o2\"], mmi1.ports[\"o3\"]], \n",
    "                                          [mmi2.ports[\"o3\"], mmi2.ports[\"o2\"]],\n",
    "                                          steps=[\n",
    "                                              {\"dx\": 20},\n",
    "                                              {\"dy\": 100},\n",
    "                                              {\"dx\": 20}\n",
    "                                          ])\n",
    "for route in bundle:\n",
    "    c2.add(route.references)\n",
    "c2"
   ]
  },
  {
   "cell_type": "code",
   "execution_count": null,
   "metadata": {},
   "outputs": [],
   "source": [
    "c2 = gf.Component()\n",
    "mmi1 = c2.add_ref(cells.mmi1x2_sc(), \"mmi1\")\n",
    "mmi2 = c2.add_ref(cells.mmi1x2_sc(), \"mmi2\")\n",
    "mmi2.rotate(180, \"o2\")\n",
    "mmi2.move(\"o2\", mmi1.ports[\"o3\"].center + (100, -50))\n",
    "bundle = gf.routing.get_bundle_all_angle([mmi1.ports[\"o2\"], mmi1.ports[\"o3\"]], \n",
    "                                          [mmi2.ports[\"o3\"], mmi2.ports[\"o2\"]],\n",
    "                                          connector=\"simple\",\n",
    "                                          )\n",
    "for route in bundle:\n",
    "    c2.add(route.references)\n",
    "c2"
   ]
  },
  {
   "cell_type": "markdown",
   "metadata": {},
   "source": []
  },
  {
   "cell_type": "code",
   "execution_count": null,
   "metadata": {},
   "outputs": [],
   "source": [
    "gf.CONF.allow_offgrid = True\n",
    "\n",
    "c2 = gf.Component()\n",
    "mmi1 = c2.add_ref(cells.mmi1x2_sc(), \"mmi1\")\n",
    "mmi2 = c2.add_ref(cells.mmi1x2_sc(), \"mmi2\")\n",
    "mmi2.rotate(180, \"o2\")\n",
    "mmi2.move(\"o2\", mmi1.ports[\"o3\"].center + (100, -50))\n",
    "bundle = gf.routing.get_bundle_all_angle([mmi1.ports[\"o2\"], mmi1.ports[\"o3\"]], \n",
    "                                          [mmi2.ports[\"o3\"], mmi2.ports[\"o2\"]],\n",
    "                                          connector=\"simple\",\n",
    "                                          steps=[\n",
    "                                              {\"ds\": 20, \"exit_angle\": -20},\n",
    "                                              {\"ds\": 50, \"exit_angle\": 180 + 20},\n",
    "                                          ]\n",
    "                                          )\n",
    "for route in bundle:\n",
    "    c2.add(route.references)\n",
    "c2.write_gds(\"sample_offgrid.gds\", flatten_offgrid_references=True)\n",
    "c2"
   ]
  },
  {
   "cell_type": "code",
   "execution_count": null,
   "metadata": {},
   "outputs": [],
   "source": []
  }
 ],
 "metadata": {
  "kernelspec": {
   "display_name": "gfdemo",
   "language": "python",
   "name": "python3"
  },
  "language_info": {
   "codemirror_mode": {
    "name": "ipython",
    "version": 3
   },
   "file_extension": ".py",
   "mimetype": "text/x-python",
   "name": "python",
   "nbconvert_exporter": "python",
   "pygments_lexer": "ipython3",
   "version": "3.11.9"
  }
 },
 "nbformat": 4,
 "nbformat_minor": 2
}
